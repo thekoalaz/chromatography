{
 "cells": [
  {
   "cell_type": "code",
   "execution_count": 3,
   "metadata": {
    "collapsed": false
   },
   "outputs": [
    {
     "name": "stdout",
     "output_type": "stream",
     "text": [
      "{'sincity': ['Crime', 'Thriller'], 'rearwindow': ['Mystery', 'Thriller'], 'fightclub': ['Drama'], 'darkknight': ['Action', 'Crime', 'Drama'], 'killbill1': ['Action'], 'cabin': ['Fantasy', 'Horror', 'Mystery', 'Thriller'], 'mulholland': ['Drama', 'Mystery', 'Thriller'], 'budapest': ['Adventure', 'Comedy', 'Drama'], 'graduate': ['Comedy', 'Drama', 'Romance'], 'shawshank': ['Crime', 'Drama'], 'watchmen': ['Action', 'Mystery', 'Sci-Fi'], 'vertigo': ['Mystery', 'Romance', 'Thriller'], 'magnolia': ['Drama'], 'killbill2': ['Action', 'Crime', 'Thriller'], 'otherguys': ['Action', 'Comedy', 'Crime'], 'jaws': ['Adventure', 'Drama', 'Thriller']}\n"
     ]
    }
   ],
   "source": [
    "import imdbpie\n",
    "import json\n",
    "\n",
    "IMDB = imdbpie.Imdb()\n",
    "\n",
    "\n",
    "jsonfile_name = \"../data/movies.json\"\n",
    "with open(jsonfile_name, \"r\") as jsonfile:\n",
    "    movie_json = json.load(jsonfile)\n",
    "    \n",
    "genre_dict = {}\n",
    "\n",
    "for movie in movie_json['movies']:\n",
    "    imdb_id = movie['IMDB_link'].split('/')[-2]\n",
    "    movie_imdb = IMDB.get_title_by_id(imdb_id)\n",
    "    genre_dict[movie[\"script_name\"]] = movie_imdb.genres\n",
    "    \n",
    "print(genre_dict)"
   ]
  },
  {
   "cell_type": "code",
   "execution_count": 4,
   "metadata": {
    "collapsed": false
   },
   "outputs": [
    {
     "name": "stdout",
     "output_type": "stream",
     "text": [
      "['darkknight', 'killbill1', 'watchmen', 'killbill2', 'otherguys']\n"
     ]
    }
   ],
   "source": [
    "#Action Movies\n",
    "print([movie for movie in genre_dict if 'Action' in genre_dict[movie]])"
   ]
  },
  {
   "cell_type": "code",
   "execution_count": 5,
   "metadata": {
    "collapsed": false
   },
   "outputs": [
    {
     "name": "stdout",
     "output_type": "stream",
     "text": [
      "['budapest', 'jaws']\n"
     ]
    }
   ],
   "source": [
    "#Adventure Movies\n",
    "print([movie for movie in genre_dict if 'Adventure' in genre_dict[movie]])"
   ]
  },
  {
   "cell_type": "code",
   "execution_count": 6,
   "metadata": {
    "collapsed": false
   },
   "outputs": [
    {
     "name": "stdout",
     "output_type": "stream",
     "text": [
      "['budapest', 'graduate', 'otherguys']\n"
     ]
    }
   ],
   "source": [
    "#Comedy Movies\n",
    "print([movie for movie in genre_dict if 'Comedy' in genre_dict[movie]])"
   ]
  },
  {
   "cell_type": "code",
   "execution_count": 7,
   "metadata": {
    "collapsed": false
   },
   "outputs": [
    {
     "name": "stdout",
     "output_type": "stream",
     "text": [
      "['fightclub', 'darkknight', 'mulholland', 'budapest', 'graduate', 'shawshank', 'magnolia', 'jaws']\n"
     ]
    }
   ],
   "source": [
    "#Drama Movies\n",
    "print([movie for movie in genre_dict if 'Drama' in genre_dict[movie]])"
   ]
  },
  {
   "cell_type": "code",
   "execution_count": 10,
   "metadata": {
    "collapsed": false
   },
   "outputs": [
    {
     "name": "stdout",
     "output_type": "stream",
     "text": [
      "['cabin', 'watchmen']\n"
     ]
    }
   ],
   "source": [
    "#Fantasy & Sci-Fi Movies\n",
    "print([movie for movie in genre_dict if ('Fantasy' in genre_dict[movie] or 'Sci-Fi' in genre_dict[movie])])"
   ]
  },
  {
   "cell_type": "code",
   "execution_count": 11,
   "metadata": {
    "collapsed": false
   },
   "outputs": [
    {
     "name": "stdout",
     "output_type": "stream",
     "text": [
      "['rearwindow', 'cabin', 'mulholland', 'watchmen', 'vertigo']\n"
     ]
    }
   ],
   "source": [
    "#Mystery Movies\n",
    "print([movie for movie in genre_dict if 'Mystery' in genre_dict[movie]])"
   ]
  },
  {
   "cell_type": "code",
   "execution_count": 12,
   "metadata": {
    "collapsed": false
   },
   "outputs": [
    {
     "name": "stdout",
     "output_type": "stream",
     "text": [
      "['sincity', 'rearwindow', 'cabin', 'mulholland', 'vertigo', 'killbill2', 'jaws']\n"
     ]
    }
   ],
   "source": [
    "#Thriller Movies\n",
    "print([movie for movie in genre_dict if 'Thriller' in genre_dict[movie]])"
   ]
  }
 ],
 "metadata": {
  "kernelspec": {
   "display_name": "Python 3",
   "language": "python",
   "name": "python3"
  },
  "language_info": {
   "codemirror_mode": {
    "name": "ipython",
    "version": 3
   },
   "file_extension": ".py",
   "mimetype": "text/x-python",
   "name": "python",
   "nbconvert_exporter": "python",
   "pygments_lexer": "ipython3",
   "version": "3.5.1"
  }
 },
 "nbformat": 4,
 "nbformat_minor": 0
}
